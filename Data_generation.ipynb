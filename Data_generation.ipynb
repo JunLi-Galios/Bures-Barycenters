{
 "cells": [
  {
   "cell_type": "code",
   "execution_count": 1,
   "metadata": {},
   "outputs": [],
   "source": [
    "using RandomMatrices, Random, LinearAlgebra, StatsBase"
   ]
  },
  {
   "cell_type": "markdown",
   "metadata": {},
   "source": [
    "# Synthetic data generation methods"
   ]
  },
  {
   "cell_type": "code",
   "execution_count": 2,
   "metadata": {},
   "outputs": [
    {
     "data": {
      "text/plain": [
       "gen (generic function with 1 method)"
      ]
     },
     "execution_count": 2,
     "metadata": {},
     "output_type": "execute_result"
    }
   ],
   "source": [
    "function gen1(covs, sqrt_covs, α, β)\n",
    "    d = size(covs)[1]\n",
    "    n = size(covs)[3]\n",
    "    basis = zeros(d,d)\n",
    "    evals = zeros(d)\n",
    "\n",
    "    for i in 1:n\n",
    "        basis .= rand(Haar(1),d)\n",
    "        evals .= LinRange(α, β, d)\n",
    "\n",
    "        covs[:,:,i] .= Symmetric(basis*diagm(evals)*basis')\n",
    "        sqrt_covs[:,:,i] .= Symmetric(basis*diagm(sqrt.(evals))*basis')\n",
    "    end\n",
    "end"
   ]
  },
  {
   "cell_type": "code",
   "execution_count": 17,
   "metadata": {},
   "outputs": [
    {
     "data": {
      "text/plain": [
       "generate1 (generic function with 1 method)"
      ]
     },
     "execution_count": 17,
     "metadata": {},
     "output_type": "execute_result"
    }
   ],
   "source": [
    "function gen2(covs, sqrt_covs, α, β)\n",
    "    d = size(covs)[1]\n",
    "    n = size(covs)[3]\n",
    "    basis = zeros(d,d)\n",
    "    evals = zeros(d)\n",
    "\n",
    "    for i in 1:n\n",
    "        basis .= rand(Haar(1),d)\n",
    "        evals .= α .+ (β-α).*rand(d)\n",
    "\n",
    "        covs[:,:,i] .= Symmetric(basis*diagm(evals)*basis')\n",
    "        sqrt_covs[:,:,i] .= Symmetric(basis*diagm(sqrt.(evals))*basis')\n",
    "    end\n",
    "end "
   ]
  },
  {
   "cell_type": "code",
   "execution_count": 18,
   "metadata": {},
   "outputs": [
    {
     "data": {
      "text/plain": [
       "generate2 (generic function with 1 method)"
      ]
     },
     "execution_count": 18,
     "metadata": {},
     "output_type": "execute_result"
    }
   ],
   "source": [
    "function gen3(covs, sqrt_covs, κ)\n",
    "    d = size(covs)[1]\n",
    "    n = size(covs)[3]\n",
    "    basis = zeros(d,d)\n",
    "    evals = zeros(d)\n",
    "    \n",
    "    for i in 1:n\n",
    "        basis .= rand(Haar(1),d)\n",
    "        evals .= 1 .+ (κ-1).*rand(d)\n",
    "        if 3*i <= n\n",
    "            evals .= evals.*0.01\n",
    "        elseif 3*i > 2n\n",
    "            evals .= evals.*100\n",
    "        end\n",
    "            \n",
    "\n",
    "        covs[:,:,i] .= Symmetric(basis*diagm(evals)*basis')\n",
    "        sqrt_covs[:,:,i] .= Symmetric(basis*diagm(sqrt.(evals))*basis')\n",
    "    end\n",
    "end"
   ]
  },
  {
   "cell_type": "code",
   "execution_count": 19,
   "metadata": {},
   "outputs": [
    {
     "data": {
      "text/plain": [
       "generate3 (generic function with 1 method)"
      ]
     },
     "execution_count": 19,
     "metadata": {},
     "output_type": "execute_result"
    }
   ],
   "source": [
    "function gen4(covs, sqrt_covs, α, β)\n",
    "    d = size(covs)[1]\n",
    "    n = size(covs)[3]\n",
    "    basis = rand(Haar(1),d)\n",
    "    evals = zeros(d)\n",
    "\n",
    "    for i in 1:n\n",
    "        evals .= α .+ (β-α).*rand(d)\n",
    "        covs[:,:,i] .= Symmetric(basis*diagm(evals)*basis')\n",
    "        sqrt_covs[:,:,i] .= Symmetric(basis*diagm(sqrt.(evals))*basis')\n",
    "    end\n",
    "end "
   ]
  },
  {
   "cell_type": "code",
   "execution_count": 20,
   "metadata": {},
   "outputs": [
    {
     "data": {
      "text/plain": [
       "generate4 (generic function with 1 method)"
      ]
     },
     "execution_count": 20,
     "metadata": {},
     "output_type": "execute_result"
    }
   ],
   "source": [
    "function gen5(covs, sqrt_covs, α, β, mult)\n",
    "    d = size(covs)[1]\n",
    "    n = size(covs)[3]\n",
    "    basis = zeros(d,d)\n",
    "    evals = zeros(d)\n",
    "\n",
    "    for i in 1:n\n",
    "        arr = α .+ (β-α).*rand(1+Int(floor(d/mult)))\n",
    "        basis .= rand(Haar(1),d)\n",
    "        evals .= sample(arr, d)\n",
    "\n",
    "        covs[:,:,i] .= Symmetric(basis*diagm(evals)*basis')\n",
    "        sqrt_covs[:,:,i] .= Symmetric(basis*diagm(sqrt.(evals))*basis')\n",
    "    end\n",
    "end "
   ]
  },
  {
   "cell_type": "code",
   "execution_count": 3,
   "metadata": {},
   "outputs": [
    {
     "data": {
      "text/plain": [
       "generate5 (generic function with 1 method)"
      ]
     },
     "execution_count": 3,
     "metadata": {},
     "output_type": "execute_result"
    }
   ],
   "source": [
    "function gen6(covs, sqrt_covs, α, β, mult)\n",
    "    d = size(covs)[1]\n",
    "    n = size(covs)[3]\n",
    "    basis = zeros(d,d)\n",
    "    evals = zeros(d)\n",
    "    arr = α .+ (β-α).*rand(1+Int(floor(d/mult)))\n",
    "\n",
    "    for i in 1:n\n",
    "        basis .= rand(Haar(1),d)\n",
    "        evals .= sample(arr, d)\n",
    "\n",
    "        covs[:,:,i] .= Symmetric(basis*diagm(evals)*basis')\n",
    "        sqrt_covs[:,:,i] .= Symmetric(basis*diagm(sqrt.(evals))*basis')\n",
    "    end\n",
    "end "
   ]
  },
  {
   "cell_type": "code",
   "execution_count": 1,
   "metadata": {},
   "outputs": [
    {
     "data": {
      "text/plain": [
       "gen7 (generic function with 1 method)"
      ]
     },
     "execution_count": 1,
     "metadata": {},
     "output_type": "execute_result"
    }
   ],
   "source": [
    "function gen7(covs, sqrt_covs, α, β, κ, mult)\n",
    "    d = size(covs)[1]\n",
    "    n = size(covs)[3]\n",
    "    \n",
    "    a = Int(floor(n/6))\n",
    "    b = Int(floor(2n/6))\n",
    "    c = Int(floor(3n/6))\n",
    "    d = Int(floor(4n/6))\n",
    "    e = Int(floor(5n/6))\n",
    "    \n",
    "    \n",
    "    c1 = @view covs[:,:,1:a]\n",
    "    c2 = @view covs[:,:,a+1:b]\n",
    "    c3 = @view covs[:,:,b+1:c]\n",
    "    c4 = @view covs[:,:,c+1:d]\n",
    "    c5 = @view covs[:,:,d+1:e]\n",
    "    c6 = @view covs[:,:,e+1:end]\n",
    "    \n",
    "    sc1 = @view sqrt_covs[:,:,1:a]\n",
    "    sc2 = @view sqrt_covs[:,:,a+1:b]\n",
    "    sc3 = @view sqrt_covs[:,:,b+1:c]\n",
    "    sc4 = @view sqrt_covs[:,:,c+1:d]\n",
    "    sc5 = @view sqrt_covs[:,:,d+1:e]\n",
    "    sc6 = @view sqrt_covs[:,:,e+1:end]\n",
    "    \n",
    "    gen1(c1, sc1, α, β)\n",
    "    gen2(c2, sc2, α, β)\n",
    "    gen3(c3, sc3, κ)\n",
    "    gen4(c4, sc4, α, β)\n",
    "    gen5(c5, sc5, α, β, mult)\n",
    "    gen6(c6, sc6, α, β, mult)\n",
    "end"
   ]
  },
  {
   "cell_type": "markdown",
   "metadata": {},
   "source": [
    "# Generating with known barycenter\n",
    "### below code generates n covariance matrices drawn from a distribution whose barycenter is the identity"
   ]
  },
  {
   "cell_type": "code",
   "execution_count": 23,
   "metadata": {},
   "outputs": [
    {
     "data": {
      "text/plain": [
       "generate_known_bary! (generic function with 1 method)"
      ]
     },
     "execution_count": 23,
     "metadata": {},
     "output_type": "execute_result"
    }
   ],
   "source": [
    "function generate_known_bary!(covs, sqrt_covs, δ)\n",
    "    d = size(covs)[1]\n",
    "    n = size(covs)[3]\n",
    "    basis = zeros(d, d)\n",
    "    evals = zeros(d)\n",
    "    \n",
    "    for i in 1:n\n",
    "        basis .= rand(Haar(1), d)\n",
    "        evals = (1-δ) .* (2 .* rand(d) .- 1)\n",
    "        \n",
    "        covs[:,:,i] .= (I+Symmetric(basis*diagm(evals)*basis'))^2\n",
    "        sqrt_covs[:,:,i] .= I+Symmetric(basis*diagm(evals)*basis')\n",
    "    end\n",
    "end    "
   ]
  }
 ],
 "metadata": {
  "kernelspec": {
   "display_name": "Julia 1.5.1",
   "language": "julia",
   "name": "julia-1.5"
  },
  "language_info": {
   "file_extension": ".jl",
   "mimetype": "application/julia",
   "name": "julia",
   "version": "1.5.1"
  }
 },
 "nbformat": 4,
 "nbformat_minor": 2
}
