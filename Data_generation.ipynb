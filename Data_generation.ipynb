{
 "cells": [
  {
   "cell_type": "code",
   "execution_count": 31,
   "metadata": {},
   "outputs": [],
   "source": [
    "using RandomMatrices, Random, LinearAlgebra, StatsBase"
   ]
  },
  {
   "cell_type": "markdown",
   "metadata": {},
   "source": [
    "## generate1\n",
    "Haar eigenbasis and uniform spectrum in [α,β]\n",
    "## generate2\n",
    "Haar eigenbasis + eigenvalues in range (0.01,0.01κ), (1,κ), (100,100κ)\n",
    "## generate3\n",
    "Same as generate1() except all matrices have the same eigenbasis\n",
    "## generate4\n",
    "Each matrix's spectrum is supported on d/mult numbers which are chosen uniformly from [α,β]\n",
    "## generate1234\n",
    "takes matrices from all four generating functions "
   ]
  },
  {
   "cell_type": "code",
   "execution_count": 32,
   "metadata": {},
   "outputs": [
    {
     "data": {
      "text/plain": [
       "generate1 (generic function with 1 method)"
      ]
     },
     "execution_count": 32,
     "metadata": {},
     "output_type": "execute_result"
    }
   ],
   "source": [
    "function generate1(covs, sqrt_covs, α, β)\n",
    "    d = size(covs)[1]\n",
    "    n = size(covs)[3]\n",
    "    basis = zeros(d,d)\n",
    "    evals = zeros(d)\n",
    "\n",
    "    for i in 1:n\n",
    "        basis .= rand(Haar(1),d)\n",
    "        evals .= α .+ (β-α).*rand(d)\n",
    "\n",
    "        covs[:,:,i] .= Symmetric(basis*diagm(evals)*basis')\n",
    "        sqrt_covs[:,:,i] .= Symmetric(basis*diagm(sqrt.(evals))*basis')\n",
    "    end\n",
    "end "
   ]
  },
  {
   "cell_type": "code",
   "execution_count": 33,
   "metadata": {},
   "outputs": [
    {
     "data": {
      "text/plain": [
       "generate2 (generic function with 1 method)"
      ]
     },
     "execution_count": 33,
     "metadata": {},
     "output_type": "execute_result"
    }
   ],
   "source": [
    "function generate2(covs, sqrt_covs, κ)\n",
    "    d = size(covs)[1]\n",
    "    n = size(covs)[3]\n",
    "    basis = zeros(d,d)\n",
    "    evals = zeros(d)\n",
    "    \n",
    "    for i in 1:n\n",
    "        basis .= rand(Haar(1),d)\n",
    "        evals .= 1 .+ (κ-1).*rand(d)\n",
    "        if 3*i <= n\n",
    "            evals .= evals.*0.01\n",
    "        elseif 3*i > 2n\n",
    "            evals .= evals.*100\n",
    "        end\n",
    "            \n",
    "\n",
    "        covs[:,:,i] .= Symmetric(basis*diagm(evals)*basis')\n",
    "        sqrt_covs[:,:,i] .= Symmetric(basis*diagm(sqrt.(evals))*basis')\n",
    "    end\n",
    "end"
   ]
  },
  {
   "cell_type": "code",
   "execution_count": 34,
   "metadata": {},
   "outputs": [
    {
     "data": {
      "text/plain": [
       "generate3 (generic function with 1 method)"
      ]
     },
     "execution_count": 34,
     "metadata": {},
     "output_type": "execute_result"
    }
   ],
   "source": [
    "function generate3(covs, sqrt_covs, α, β)\n",
    "    d = size(covs)[1]\n",
    "    n = size(covs)[3]\n",
    "    basis = rand(Haar(1),d)\n",
    "    evals = zeros(d)\n",
    "\n",
    "    for i in 1:n\n",
    "        evals .= α .+ (β-α).*rand(d)\n",
    "        covs[:,:,i] .= Symmetric(basis*diagm(evals)*basis')\n",
    "        sqrt_covs[:,:,i] .= Symmetric(basis*diagm(sqrt.(evals))*basis')\n",
    "    end\n",
    "end "
   ]
  },
  {
   "cell_type": "code",
   "execution_count": 35,
   "metadata": {},
   "outputs": [
    {
     "data": {
      "text/plain": [
       "generate4 (generic function with 1 method)"
      ]
     },
     "execution_count": 35,
     "metadata": {},
     "output_type": "execute_result"
    }
   ],
   "source": [
    "function generate4(covs, sqrt_covs, α, β, mult)\n",
    "    d = size(covs)[1]\n",
    "    n = size(covs)[3]\n",
    "    basis = zeros(d,d)\n",
    "    evals = zeros(d)\n",
    "    arr = α .+ (β-α).*rand(1+Int(floor(d/mult)))\n",
    "\n",
    "    for i in 1:n\n",
    "        basis .= rand(Haar(1),d)\n",
    "        evals .= sample(arr, d)\n",
    "\n",
    "        covs[:,:,i] .= Symmetric(basis*diagm(evals)*basis')\n",
    "        sqrt_covs[:,:,i] .= Symmetric(basis*diagm(sqrt.(evals))*basis')\n",
    "    end\n",
    "end "
   ]
  },
  {
   "cell_type": "code",
   "execution_count": 36,
   "metadata": {},
   "outputs": [
    {
     "data": {
      "text/plain": [
       "generate1234 (generic function with 1 method)"
      ]
     },
     "execution_count": 36,
     "metadata": {},
     "output_type": "execute_result"
    }
   ],
   "source": [
    "function generate1234(covs, sqrt_covs, α, β, κ, mult)\n",
    "    d = size(covs)[1]\n",
    "    n = size(covs)[3]\n",
    "    \n",
    "    a = Int(floor(n/4))\n",
    "    b = Int(floor(n/2))\n",
    "    c = Int(floor(3n/4))\n",
    "    \n",
    "    c1 = @view covs[:,:,1:a]\n",
    "    c2 = @view covs[:,:,a+1:b]\n",
    "    c3 = @view covs[:,:,b+1:c]\n",
    "    c4 = @view covs[:,:,c+1:end]\n",
    "    sc1 = @view sqrt_covs[:,:,1:a]\n",
    "    sc2 = @view sqrt_covs[:,:,a+1:b]\n",
    "    sc3 = @view sqrt_covs[:,:,b+1:c]\n",
    "    sc4 = @view sqrt_covs[:,:,c+1:end]\n",
    "    generate1(c1, sc1, α, β)\n",
    "    generate2(c2, sc2, κ)\n",
    "    generate3(c3, sc3, α, β)\n",
    "    generate4(c4, sc4, α, β, mult)\n",
    "end"
   ]
  }
 ],
 "metadata": {
  "kernelspec": {
   "display_name": "Julia 1.5.1",
   "language": "julia",
   "name": "julia-1.5"
  },
  "language_info": {
   "file_extension": ".jl",
   "mimetype": "application/julia",
   "name": "julia",
   "version": "1.5.1"
  }
 },
 "nbformat": 4,
 "nbformat_minor": 2
}
