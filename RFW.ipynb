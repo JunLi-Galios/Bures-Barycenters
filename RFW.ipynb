{
 "cells": [
  {
   "cell_type": "code",
   "execution_count": 1,
   "id": "90263959",
   "metadata": {},
   "outputs": [
    {
     "data": {
      "text/plain": [
       "Plots.PGFPlotsXBackend()"
      ]
     },
     "execution_count": 1,
     "metadata": {},
     "output_type": "execute_result"
    }
   ],
   "source": [
    "using LinearAlgebra, Plots, PGFPlotsX, LaTeXStrings, KernelEstimator, ProgressBars\n",
    "pgfplotsx()"
   ]
  },
  {
   "cell_type": "code",
   "execution_count": 2,
   "id": "27fcdf33",
   "metadata": {},
   "outputs": [
    {
     "data": {
      "text/plain": [
       "barycenter_functional (generic function with 1 method)"
      ]
     },
     "execution_count": 2,
     "metadata": {},
     "output_type": "execute_result"
    }
   ],
   "source": [
    "using NBInclude\n",
    "@nbinclude(\"Data_generation.ipynb\")\n",
    "@nbinclude(\"Barycenter_algorithms.ipynb\")"
   ]
  },
  {
   "cell_type": "code",
   "execution_count": 3,
   "id": "1feab533",
   "metadata": {},
   "outputs": [
    {
     "data": {
      "text/plain": [
       "GM (generic function with 1 method)"
      ]
     },
     "execution_count": 3,
     "metadata": {},
     "output_type": "execute_result"
    }
   ],
   "source": [
    "function GM(X,Y,t)\n",
    "    tmp = X^(.5)\n",
    "    return Symmetric(tmp*(tmp\\Y/tmp)^t*tmp)\n",
    "end"
   ]
  },
  {
   "cell_type": "code",
   "execution_count": 4,
   "id": "471c1767",
   "metadata": {},
   "outputs": [
    {
     "data": {
      "text/plain": [
       "RMF (generic function with 1 method)"
      ]
     },
     "execution_count": 4,
     "metadata": {},
     "output_type": "execute_result"
    }
   ],
   "source": [
    "function RMF(covs, nIter)\n",
    "    d = size(covs)[1]\n",
    "    n = size(covs)[3]\n",
    "    β = minimum([eigvals(Symmetric(covs[:,:,i]), 1:1) for i in 1:n])\n",
    "    A = zeros(d,d)\n",
    "    for i in 1:n\n",
    "        A .+= covs[:,:,i]\n",
    "    end\n",
    "    A ./= n\n",
    "    \n",
    "    Xs = zeros(d,d,nIter)\n",
    "    Xs[:,:,1] = Symmetric(covs[:,:,1])\n",
    "    for k in 1:nIter-1\n",
    "        Xₖ = @view Xs[:,:,k]\n",
    "        ∇ = zeros(d,d)\n",
    "        for i in 1:n\n",
    "            Aᵢ = @view covs[:,:,i]\n",
    "            ∇ .+= I(d) .- GM(Aᵢ, Xₖ^(-1), .5)\n",
    "        end\n",
    "        ∇ ./= n\n",
    "        ∇ .= Symmetric(∇)\n",
    "        X = Xₖ^(-.5)\n",
    "        tmp = Xₖ^(.5)\n",
    "        S = tmp*∇*tmp\n",
    "        L = β.*I(d)\n",
    "        \n",
    "        U = A\n",
    "        e = eigen(S)\n",
    "        Q = e.vectors\n",
    "        D₊ = max.(0,diagm(-sign.(e.values)))\n",
    "        Û = Symmetric(Q'*X*U*X*Q)\n",
    "        L̂ = Symmetric(Q'*X*L*X*Q)\n",
    "        P = cholesky(Û-L̂).U\n",
    "        Z = X\\Q*(P'*D₊*P+L̂)*Q'/X\n",
    "        Xs[:,:,k+1] .= GM(Xₖ, Z, 2.0/(k+1))\n",
    "    end\n",
    "    return Xs\n",
    "end"
   ]
  },
  {
   "cell_type": "code",
   "execution_count": 5,
   "id": "c6a7eeb0",
   "metadata": {},
   "outputs": [],
   "source": [
    "α = .03\n",
    "β = 30\n",
    "κ = β/α\n",
    "\n",
    "d=50\n",
    "n=50\n",
    "nIter = 1000\n",
    "covs = zeros(d,d,n)\n",
    "sqrt_covs = zeros(d,d,n)\n",
    "\n",
    "gen1(covs, sqrt_covs, α, β)"
   ]
  },
  {
   "cell_type": "code",
   "execution_count": 6,
   "id": "d379daed",
   "metadata": {},
   "outputs": [],
   "source": [
    "tmp = RMF(covs, nIter);"
   ]
  },
  {
   "cell_type": "code",
   "execution_count": 7,
   "id": "e037e0d2",
   "metadata": {},
   "outputs": [],
   "source": [
    "# objective, times, η, distances, sqrt_best\n",
    "gd_obj = zeros(nIter)\n",
    "GD_dist = zeros(nIter)\n",
    "sqrt_best = GD!(nIter, covs, sqrt_covs, gd_obj, zeros(nIter), 1, zeros(nIter), covs[:,:,1]);\n",
    "sqrt_best = GD!(nIter, covs, sqrt_covs, gd_obj, zeros(nIter), 1, GD_dist, sqrt_best);"
   ]
  },
  {
   "cell_type": "code",
   "execution_count": 13,
   "id": "4c805521",
   "metadata": {},
   "outputs": [],
   "source": [
    "dists = zeros(nIter, 2)\n",
    "dists[:,1] = GD_dist\n",
    "dists[:,2] = [bures(sqrt_best, tmp[:,:,i]) for i in 1:nIter]\n",
    "plt=plot(log10.(max.(1e-12, dists)), color_palette=palette(:GnBu_6), \n",
    "     title = string(L\"\\textrm{GD vs Riemannian Frank-Wolfe}\"), \n",
    "    ylabel = L\"W_2^2(X_t,X^\\star)\",\n",
    "    xlabel = L\"\\textrm{iteration}\",\n",
    "    minorgrid=true,\n",
    "    legendfontsize=17,\n",
    "    tickfontsize=17,\n",
    "    labelfontsize=17, \n",
    "    titlefontsize=22,\n",
    "    labels=[\"GD\" \"RFW\"],\n",
    "    linecolors = [6 3],\n",
    "    legend=:topright,\n",
    "        linewidth = 6)\n",
    "yticks!([3, 0,-5,-10, -12], [\"10^3\", \"1\", \"10^{-5}\", \"10^{-10}\", \"10^{-12}\"])\n",
    "ylims!(-12.5,4)\n",
    "savefig(plt, \"./figures/RFW\")"
   ]
  },
  {
   "cell_type": "code",
   "execution_count": 9,
   "id": "715e2e8c",
   "metadata": {},
   "outputs": [],
   "source": [
    "dists = zeros(nIter)\n",
    "for i in 1:nIter\n",
    "    dists[i] = barycenter_functional(sqrt_covs, tmp[:,:,i])\n",
    "end\n",
    "\n",
    "# plot(ds, bs, color_palette=palette(:GnBu_6), \n",
    "#      title = string(L\"\\textrm{Estimated rate of convergence}\"), \n",
    "#     ylabel = L\"\\textrm{rate}\",\n",
    "#     xlabel = L\"\\textrm{dimension}\",\n",
    "#     minorgrid=true,\n",
    "#     legendfontsize=17,\n",
    "#     tickfontsize=17,\n",
    "#     labelfontsize=17, \n",
    "#     titlefontsize=22,\n",
    "#     labels=labels,\n",
    "#     linecolor = colors,\n",
    "#         linewidth = 6)"
   ]
  },
  {
   "cell_type": "code",
   "execution_count": 10,
   "id": "eba8f8c7",
   "metadata": {},
   "outputs": [
    {
     "ename": "LoadError",
     "evalue": "\u001b[91mUndefVarError: lol not defined\u001b[39m",
     "output_type": "error",
     "traceback": [
      "\u001b[91mUndefVarError: lol not defined\u001b[39m",
      "",
      "Stacktrace:",
      " [1] top-level scope at In[10]:1",
      " [2] include_string(::Function, ::Module, ::String, ::String) at ./loading.jl:1091"
     ]
    }
   ],
   "source": [
    "plot(log10.(max.(1e-15, dists .- lol)),\n",
    "    color_palette=palette(:GnBu_6), \n",
    "    title = string(L\"\\textrm{Riemannian Frank-Wolfe vs GD}\"),\n",
    "    xlabel = L\"\\textrm{iteration}\",\n",
    "    ylabel = L\"W_2^2(X_t, X^\\star)\", \n",
    "color = 6, linewidth=6, label=\"FWD\")"
   ]
  }
 ],
 "metadata": {
  "kernelspec": {
   "display_name": "Julia 1.5.1",
   "language": "julia",
   "name": "julia-1.5"
  },
  "language_info": {
   "file_extension": ".jl",
   "mimetype": "application/julia",
   "name": "julia",
   "version": "1.5.1"
  }
 },
 "nbformat": 4,
 "nbformat_minor": 5
}
